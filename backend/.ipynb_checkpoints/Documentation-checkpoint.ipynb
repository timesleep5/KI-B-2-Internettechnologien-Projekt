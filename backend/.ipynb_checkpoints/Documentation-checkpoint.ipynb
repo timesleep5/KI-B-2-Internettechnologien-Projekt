{
 "cells": [
  {
   "cell_type": "markdown",
   "id": "054a746c-9474-448c-9f8f-695f4a70d8e7",
   "metadata": {},
   "source": [
    "# Documentation: Chatbot Backend"
   ]
  },
  {
   "cell_type": "markdown",
   "id": "5f6b9d5f-4345-4cfc-9ecd-aef86bd97526",
   "metadata": {},
   "source": [
    "## Overview"
   ]
  },
  {
   "cell_type": "markdown",
   "id": "40b6980b-5794-47be-b713-66d409c518d2",
   "metadata": {},
   "source": [
    "This documentation describes the backend implementation of a chatbot application using FastAPI in Python. The backend manages chat sessions, user interactions, and data storage for a conversational interface. Key components include API endpoints, a chat session database, a state-driven bot logic, and utility functions for handling data and exceptions. The focus of this documentation lies on brevity and understandability. That's why code and explainations are kept short, they should only give a rough overview."
   ]
  },
  {
   "cell_type": "markdown",
   "id": "8a51ca54-d498-4b31-816a-1b303520428e",
   "metadata": {},
   "source": [
    "## API Endpoints"
   ]
  },
  {
   "cell_type": "markdown",
   "id": "7a8bd761-fbcd-4f66-b2c4-90d672698545",
   "metadata": {},
   "source": [
    "### Creating a New Chat Session"
   ]
  },
  {
   "cell_type": "markdown",
   "id": "850f1db8-08cc-4d23-bdfc-931b6c1b3dfe",
   "metadata": {},
   "source": [
    "Endpoint to create a new chat session for a user, initializing with a greeting and start message from the bot."
   ]
  },
  {
   "cell_type": "code",
   "execution_count": null,
   "id": "bac64547-b469-4761-afe7-2c821bcb6af0",
   "metadata": {},
   "outputs": [],
   "source": [
    "@app.post(\"/chats/new\", response_model=int)\n",
    "async def create_chat_session_from_user(name: str = Query(None, min_length=1)):\n",
    "    return await database.create_chat_session_from_user(name)"
   ]
  },
  {
   "cell_type": "markdown",
   "id": "51e2d790-598d-416c-9189-2d07a9274d4c",
   "metadata": {},
   "source": [
    "### Reacting to User Messages"
   ]
  },
  {
   "cell_type": "markdown",
   "id": "c806380a-f54f-40fe-b366-228bf6fa5d24",
   "metadata": {},
   "source": [
    "Endpoint to handle user messages within an existing chat session and generate bot responses."
   ]
  },
  {
   "cell_type": "code",
   "execution_count": null,
   "id": "1152ee44-98de-47a7-952a-030125f1cffe",
   "metadata": {},
   "outputs": [],
   "source": [
    "@app.post(\"/chats/id/{chat_id}/message\", response_model=BotMessage)\n",
    "async def react_to_user_message(chat_id: int, message: UserMessage):\n",
    "    return await database.react_to_user_message(chat_id, message)"
   ]
  },
  {
   "cell_type": "markdown",
   "id": "38a1545e-1023-47c4-b4f6-abd77b0800a9",
   "metadata": {},
   "source": [
    "### Retrieving Chat Session Information"
   ]
  },
  {
   "cell_type": "markdown",
   "id": "98e5d370-dc9c-4bea-9124-b0d924192c79",
   "metadata": {},
   "source": [
    "Endpoint to retrieve the full chat session details by providing the chat ID."
   ]
  },
  {
   "cell_type": "code",
   "execution_count": null,
   "id": "34ef8edb-e6b7-4fa9-a76b-bbdd6b0867b4",
   "metadata": {},
   "outputs": [],
   "source": [
    "@app.get(\"/chats/id/{chat_id}\", response_model=ChatSession)\n",
    "async def get_chat_session(chat_id: int):\n",
    "    return await database.get_chat_session(chat_id)"
   ]
  },
  {
   "cell_type": "markdown",
   "id": "7be2a786-54eb-4bd2-9123-260e41b43e09",
   "metadata": {},
   "source": [
    "### Retrieving Logged-in Users"
   ]
  },
  {
   "cell_type": "markdown",
   "id": "b0a81913-621d-4a73-a5a8-7f41ea0dcb2e",
   "metadata": {},
   "source": [
    "Endpoint to retrieve a list of all logged-in users."
   ]
  },
  {
   "cell_type": "markdown",
   "id": "5b6613c5-ca35-4802-9e34-94a8711ec1ca",
   "metadata": {},
   "source": [
    "@app.get(\"/users\", response_model=List[User])\n",
    "async def get_logged_in_users():\n",
    "    return await database.get_logged_in_users()"
   ]
  },
  {
   "cell_type": "markdown",
   "id": "9b9edb97-4cef-4351-82b8-4316aa0f19a1",
   "metadata": {},
   "source": [
    "## Bot Logic"
   ]
  },
  {
   "cell_type": "markdown",
   "id": "fce49d0f-b9dc-4edd-8695-57520da29605",
   "metadata": {},
   "source": [
    "The chatbot is driven by states defined in the <code>State</code> enum, managing user interactions through state transitions and responses."
   ]
  },
  {
   "cell_type": "markdown",
   "id": "e2791f27-ccb1-44d9-9b8f-086c5e640555",
   "metadata": {},
   "source": [
    "### Bot States"
   ]
  },
  {
   "cell_type": "markdown",
   "id": "6ac2633a-d7ef-48ea-bdce-ed9a6685fc58",
   "metadata": {},
   "source": [
    "The <code>State</code> enum defines different states of the chatbot during interaction."
   ]
  },
  {
   "cell_type": "code",
   "execution_count": null,
   "id": "e90e3dce-5f38-4b9d-bdd3-196bd43cfd11",
   "metadata": {},
   "outputs": [],
   "source": [
    "class State(Enum):\n",
    "    START = 'start'\n",
    "    RESTART = 'restart'\n",
    "    HELP = 'help'\n",
    "    # Other states omitted for brevity\n",
    "    SAVE_SUMMARY = 'save_summary'\n",
    "    EXIT = 'exit'"
   ]
  },
  {
   "cell_type": "markdown",
   "id": "cc9ac949-2887-4906-bef7-974d8f8c9875",
   "metadata": {},
   "source": [
    "### Bot Implementation"
   ]
  },
  {
   "cell_type": "markdown",
   "id": "6ceceb78-d148-45a3-a224-ad313b70fd04",
   "metadata": {},
   "source": [
    "The <code>Bot</code> class implements the logic for responding to user messages based on the current state. Every state has several following states, based on the user input."
   ]
  },
  {
   "cell_type": "code",
   "execution_count": null,
   "id": "25daa406-fdd7-4af6-a049-46ebdd2e18f8",
   "metadata": {},
   "outputs": [],
   "source": [
    "class Bot:\n",
    "    def __init__(self):\n",
    "        # Initialization omitted for brevity\n",
    "\n",
    "    def respond_to(self, message: UserMessage) -> BotMessage:\n",
    "        content = message.content.lower()\n",
    "        match self.__state:\n",
    "            case State.START:\n",
    "                return self.__handle_start(content)\n",
    "            case State.RESTART:\n",
    "                return self.__handle_restart(content)\n",
    "            # Other state handling methods omitted for brevity\n",
    "            case State.EXIT:\n",
    "                return self.__handle_exit(content)\n",
    "            case _:\n",
    "                return self.__handle_unknown_state()"
   ]
  },
  {
   "cell_type": "markdown",
   "id": "f04724d1-e70b-4bfd-b831-3072b265607f",
   "metadata": {},
   "source": [
    "## Data Management"
   ]
  },
  {
   "cell_type": "markdown",
   "id": "0a0d26f6-2543-471e-b429-d78f01ec65f6",
   "metadata": {},
   "source": [
    "### Chat Session and Database Management"
   ]
  },
  {
   "cell_type": "markdown",
   "id": "3eef2a6a-db1a-40bf-a987-454c7ad0d3a7",
   "metadata": {},
   "source": [
    "The <code>Database</code> class manages chat sessions and associated bots using a dictionary-based storage. Its methods are called in the API endpoints."
   ]
  },
  {
   "cell_type": "code",
   "execution_count": null,
   "id": "9734bdf1-fac3-49c8-a677-90faa8fdefbe",
   "metadata": {},
   "outputs": [],
   "source": [
    "class Database:\n",
    "    def __init__(self):\n",
    "        # Initialization omitted for brevity\n",
    "\n",
    "    async def create_chat_session_from_user(self, name: str) -> int:\n",
    "        # Implementation omitted for brevity\n",
    "\n",
    "    async def react_to_user_message(self, chat_id: int, message: UserMessage) -> BotMessage:\n",
    "        # Implementation omitted for brevity\n",
    "\n",
    "    async def get_chat_session(self, chat_id: int):\n",
    "        # Implementation omitted for brevity\n"
   ]
  },
  {
   "cell_type": "markdown",
   "id": "2a7d7cc0-4743-4a10-945c-f184f19fb56c",
   "metadata": {},
   "source": [
    "### Summary Data Handling"
   ]
  },
  {
   "cell_type": "markdown",
   "id": "d4d4b1fc-811b-4506-ac33-ac37a76813d0",
   "metadata": {},
   "source": [
    "The  <code>SummaryData</code> class manages data related to summary generation, including start date, months, kilometer limits, and driven kilometers. It is an instance variable of the Bot class, storing the data necessary for instanciating the SummaryBuilder."
   ]
  },
  {
   "cell_type": "code",
   "execution_count": null,
   "id": "37f0d307-47e4-4dae-ba10-2e41e976d9f4",
   "metadata": {},
   "outputs": [],
   "source": [
    "class SummaryData:\n",
    "    def __init__(self):\n",
    "        # Initialization omitted for brevity\n",
    "\n",
    "    def is_complete(self):\n",
    "        # Implementation omitted for brevity\n",
    "\n",
    "    def set_start_date(self, date: datetime):\n",
    "        # Implementation omitted for brevity\n",
    "\n",
    "    # Other getter and setter methods omitted for brevity"
   ]
  },
  {
   "cell_type": "markdown",
   "id": "eec29294-fd1a-4f47-9a63-6967aa83870c",
   "metadata": {},
   "source": [
    "## Utility Functions"
   ]
  },
  {
   "cell_type": "markdown",
   "id": "862c4ae0-b244-4bf9-bab1-7670856b11b0",
   "metadata": {},
   "source": [
    "Various utility functions are used throughout the backend for handling exceptions, file operations, and regex operations."
   ]
  },
  {
   "cell_type": "code",
   "execution_count": null,
   "id": "97fccbd7-270b-4840-b5f8-de559af61aef",
   "metadata": {},
   "outputs": [],
   "source": [
    "def read_json(path: str) -> Any:\n",
    "    with open(path, 'r') as file:\n",
    "        return json.load(file)\n",
    "\n",
    "# Other utility functions include finding a date or a number in the user's message or storing configurations in json files."
   ]
  },
  {
   "cell_type": "markdown",
   "id": "8e0ded2a-42bb-4f64-a4e9-6f24d80ce734",
   "metadata": {},
   "source": [
    "## Conclusion"
   ]
  },
  {
   "cell_type": "markdown",
   "id": "92e1adbb-949a-4665-9abc-70ce4b2c3c5a",
   "metadata": {},
   "source": [
    "This documentation covers the essential components of the chatbot backend, including API endpoints, bot logic, data management, and utility functions. It provides a comprehensive overview of how the system operates and handles user interactions. For further details, refer to the source code and relevant documentation of individual components."
   ]
  }
 ],
 "metadata": {
  "kernelspec": {
   "display_name": "Python 3 (ipykernel)",
   "language": "python",
   "name": "python3"
  },
  "language_info": {
   "codemirror_mode": {
    "name": "ipython",
    "version": 3
   },
   "file_extension": ".py",
   "mimetype": "text/x-python",
   "name": "python",
   "nbconvert_exporter": "python",
   "pygments_lexer": "ipython3",
   "version": "3.10.12"
  }
 },
 "nbformat": 4,
 "nbformat_minor": 5
}
